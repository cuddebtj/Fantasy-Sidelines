{
 "cells": [
  {
   "cell_type": "code",
   "execution_count": null,
   "id": "9a3cc162-a5ed-4f9e-99a5-ed01d52e375b",
   "metadata": {
    "jupyter": {
     "source_hidden": true
    },
    "tags": []
   },
   "outputs": [],
   "source": [
    "# import os\n",
    "# from dotenv import load_dotenv\n",
    "# load_dotenv()\n",
    "\n",
    "# api_key = os.getenv(\"mysportsfeeds_apikey\")\n",
    "\n",
    "# def snaps_api(api_key, season, week):\n",
    "#     api_url = f\"https://api.mysportsfeeds.com/v2.1/pull/nfl/{season[0]}/week/{week[0]}/player_gamelogs.json\"\n",
    "\n",
    "#     try:\n",
    "#         response = requests.get(\n",
    "#             url=f\"{api_url}\",\n",
    "#             params={\n",
    "#                 \"fordate\": \"20211103\"\n",
    "#             },\n",
    "#             headers={\n",
    "#                 \"Authorization\": \"Basic \" + base64.b64encode(\"{}:{}\".format(api_key, \"MYSPORTSFEEDS\").encode(\"utf-8\")).decode(\"ascii\")\n",
    "#             }\n",
    "#         )\n",
    "#         print(\"Response HTTP Status Code: {status_code}\".format(\n",
    "#             status_code=response.status_code))\n",
    "#     except requests.exceptions.RequestException:\n",
    "#         print(\"HTTP Request failed\")\n",
    "\n",
    "#     r = response.content\n",
    "#     soup = BeautifulSoup(r, \"html.parser\")\n",
    "#     json = soup.text\n",
    "#     df = pd.json_normalize(json[\"gamelogs\"])\n",
    "#     cols = list(df.columns)\n",
    "#     not_drop = []\n",
    "#     for c in cols:\n",
    "#         if \"game.\" in c or \"player.\" in c or \"team.\" in c or \"snapCounts\" in c:\n",
    "#             not_drop.append(c)\n",
    "            \n",
    "#     snaps = df[not_drop]\n",
    "\n",
    "#     time.sleep(5)\n",
    "    \n",
    "#     return snaps\n",
    "\n",
    "# def all_snaps(seasons, weeks):\n",
    "#     start = time.time()\n",
    "#     final_df = pd.DataFrame()\n",
    "#     for s in seasons:\n",
    "#         for w in weeks:\n",
    "#             snaps = snaps_api(s, w)\n",
    "#             final_df = pd.concat([snaps, final_df])\n",
    "            \n",
    "#     print(time.time()-start)\n",
    "#     return final_df\n",
    "\n",
    "# seasons = [\"2020-2021-regular\", \"2019-2020-regular\", \"2018-2019-regular\"]\n",
    "# weeks = [\"1\", \"2\", \"3\", \"4\", \"5\", \"6\", \"7\", \"8\", \"9\", \"10\", \"11\", \"12\", \"13\", \"14\", \"15\", \"16\", \"17\"]\n",
    "# all_snaps = all_snaps(seasons, weeks)\n",
    "# all_snaps[\"stats.snapCounts.offenseSnaps\"].unique()\n",
    "# all_snaps[\"stats.snapCounts.defenseSnaps\"].unique()\n",
    "# all_snaps[\"stats.snapCounts.specialTeamSnaps\"].unique()"
   ]
  },
  {
   "cell_type": "code",
   "execution_count": 1,
   "id": "7814f571-9610-4ccb-98b7-52f2046db875",
   "metadata": {},
   "outputs": [
    {
     "name": "stdout",
     "output_type": "stream",
     "text": [
      "['IDCalendarTable', 'IDGameTable', 'IDPlayerTable', 'IDSeasonTable', 'IDTeamTable', 'IDVenueTable', 'IDWeekTable', 'playerPractice', 'playerSnaps', 'playerStats', 'schedule', 'teamStats', 'weeklyStats']\n"
     ]
    }
   ],
   "source": [
    "import time\n",
    "import pyodbc\n",
    "import os\n",
    "import pandas as pd\n",
    "import numpy as np\n",
    "from sqlalchemy import create_engine\n",
    "from sqlalchemy import inspect\n",
    "from sqlalchemy.engine import URL\n",
    "from dotenv import load_dotenv\n",
    "\n",
    "__author__ = \"Tim Cuddeback\"\n",
    "__copyright__ = \"Copyright (c) 2021, Fantasy-Sidelines\"\n",
    "__credits__ = [\"Tim Cuddeback\", \"Sportradar API\", \"Fantasy Sharks\", \"MySportsFeeds API\"]\n",
    "__license__ = \"MIT License\"\n",
    "__version__ = \"1.1.0\"\n",
    "__maintainer__ = \"Tim Cuddeback\"\n",
    "__email__ = \"cuddebtj@gmail.com\"\n",
    "__status__ = \"Dev\"\n",
    "\n",
    "from sql_upload import *\n",
    "\n",
    "load_dotenv()\n",
    "sql_driver = os.getenv(\"sql_driver\")\n",
    "# check IP address for connection timeout errors\n",
    "sql_server_16 = os.getenv(\"sql_server_16\")\n",
    "sql_server_17 = os.getenv(\"sql_server_17\")\n",
    "sql_database = os.getenv(\"sql_database\")\n",
    "sql_username = os.getenv(\"sql_username\")\n",
    "sql_password = os.getenv(\"sql_password\")\n",
    "api_key = os.getenv(\"sportradar_apikey\")\n",
    "\n",
    "year = [2020, 2019, 2018, 2017, 2016]\n",
    "\n",
    "connection_string = (\"DRIVER=\"+sql_driver\n",
    "                     +\";SERVER=\"+sql_server_16\n",
    "                     +\";DATABASE=\"+sql_database\n",
    "                     +\";UID=\"+sql_username\n",
    "                     +\";PWD=\"+sql_password)\n",
    "# cxn = pyodbc.connect(connection_string)\n",
    "connection_url = URL.create(\"mssql+pyodbc\", \n",
    "                            query={\"odbc_connect\": connection_string})\n",
    "engine = create_engine(connection_url)\n",
    "conn = engine.connect()\n",
    "\n",
    "inspector = inspect(engine)\n",
    "print(inspector.get_table_names())"
   ]
  },
  {
   "cell_type": "code",
   "execution_count": 36,
   "id": "3cf4cda2-3a23-488f-beb2-2ba967250a15",
   "metadata": {
    "jupyter": {
     "source_hidden": true
    },
    "tags": []
   },
   "outputs": [],
   "source": [
    "snaps_df = pd.read_sql_table(\"playerSnaps\",  con=conn)\n",
    "schedule = pd.read_sql_table(\"schedule\", con=conn)\n",
    "snaps_df = snaps_df.replace({\"team\": {\n",
    "    \"GNB\": \"GB\", \"JAX\": \"JAC\", \"KAN\": \"KC\", \n",
    "    \"LAR\": \"LA\", \"LVR\": \"LV\", \"NOR\": \"NO\", \n",
    "    \"NWE\": \"NE\", \"SDG\": \"SD\", \"SFO\": \"SF\", \n",
    "    \"TAM\": \"TB\"\n",
    "}, \"opp\": {\n",
    "    \"GNB\": \"GB\", \"JAX\": \"JAC\", \"KAN\": \"KC\", \n",
    "    \"LAR\": \"LA\", \"LVR\": \"LV\", \"NOR\": \"NO\", \n",
    "    \"NWE\": \"NE\", \"SDG\": \"SD\", \"SFO\": \"SF\", \n",
    "    \"TAM\": \"TB\"\n",
    "}})\n",
    "snaps_df[\"home.away\"] = snaps_df[\"home.away\"].replace({\"@\": \"away\", \"\": \"home\", np.nan: \"home\"})\n",
    "snaps_df[\n",
    "    [\"off.snaps\",\n",
    "    \"def.snaps\",\n",
    "    \"st.snaps\"]\n",
    "] = snaps_df [\n",
    "    [\"off.snaps\",\n",
    "    \"def.snaps\",\n",
    "    \"st.snaps\"]\n",
    "].fillna(0)\n",
    "snaps_df[\n",
    "    [\"off.snaps\",\n",
    "    \"def.snaps\",\n",
    "    \"st.snaps\"]\n",
    "] = snaps_df [\n",
    "    [\"off.snaps\",\n",
    "    \"def.snaps\",\n",
    "    \"st.snaps\"]\n",
    "].replace(\"\", 0)\n",
    "snaps_df[\n",
    "    [\"off.snaps\", \n",
    "    \"def.snaps\", \n",
    "    \"st.snaps\"]\n",
    "] = snaps_df[\n",
    "    [\"off.snaps\", \n",
    "    \"def.snaps\", \n",
    "    \"st.snaps\"]\n",
    "].astype(int)\n",
    "snaps_df[\"season\"] = snaps_df[\"season\"].astype(str)\n",
    "\n",
    "replace = [\" III\", \" II\", \" Sr.\", \" Jr.\", \" Jr\", \" Sr\"]\n",
    "snaps_df[\"player_name\"] = snaps_df[\"player_name\"].str.replace(\"|\".join([re.escape(s) for s in replace]), \"\", regex=True)\n",
    "snaps_df = snaps_df.drop_duplicates()\n",
    "snaps_df = snaps_df.merge(schedule,\n",
    "                         how=\"left\",\n",
    "                         left_on=[\"team\", \"home.away\", \"opp\", \"season\"],\n",
    "                         right_on=[\"game.team.alias\", \"home.away\", \"game.opp.alias\", \"season.year\"],\n",
    "                         suffixes=(None, \".merged\"))\n",
    "snaps_df = snaps_df[\n",
    "    [\n",
    "        \"player_url\", \"player_name\", \"game.team.alias\", \"game.team.id\",\n",
    "        \"home.away\", \"game.opp.alias\", \"game.opp.id\", \"game.id\", \"game.scheduled\",\n",
    "        \"season.id\", \"season.year\", \"week.id\", \"week.sequence\",\n",
    "        \"off.snaps\", \"def.snaps\", \"st.snaps\"\n",
    "    ]\n",
    "]\n",
    "snaps_df.to_sql(\"playerSnaps\", engine, if_exists=\"replace\", index=False, schema=\"dbo\", chunksize=500)"
   ]
  },
  {
   "cell_type": "code",
   "execution_count": null,
   "id": "9da74009-2558-4d91-b6ac-499c7d15b2df",
   "metadata": {},
   "outputs": [],
   "source": []
  },
  {
   "cell_type": "code",
   "execution_count": null,
   "id": "9a0aa9e0-7a90-4e9c-9eb6-91cef06c5845",
   "metadata": {},
   "outputs": [
    {
     "name": "stdout",
     "output_type": "stream",
     "text": [
      "Done: players_df\n",
      "Time:  4.075072236855825  min\n"
     ]
    }
   ],
   "source": [
    "snaps(2016, 2020, engine)"
   ]
  },
  {
   "cell_type": "code",
   "execution_count": null,
   "id": "80384aaf-8f58-492f-a909-574a690c90b0",
   "metadata": {},
   "outputs": [],
   "source": []
  },
  {
   "cell_type": "code",
   "execution_count": null,
   "id": "fbad58e0-6d2a-40c0-9b3d-98d4756900b9",
   "metadata": {},
   "outputs": [],
   "source": []
  },
  {
   "cell_type": "code",
   "execution_count": null,
   "id": "72c8e3fc-1335-49fd-8089-7d9ba85f043a",
   "metadata": {},
   "outputs": [],
   "source": []
  },
  {
   "cell_type": "code",
   "execution_count": null,
   "id": "156650e8-0b92-4d2f-a61e-a3be8945e80c",
   "metadata": {},
   "outputs": [],
   "source": []
  },
  {
   "cell_type": "code",
   "execution_count": null,
   "id": "657ebde4-94ed-4267-97fd-071b695bf8eb",
   "metadata": {},
   "outputs": [],
   "source": []
  },
  {
   "cell_type": "code",
   "execution_count": null,
   "id": "2374ca68-7bb4-4307-9e60-ce38f8a91c34",
   "metadata": {},
   "outputs": [],
   "source": []
  },
  {
   "cell_type": "code",
   "execution_count": null,
   "id": "45080dd2-1109-42d8-8687-cad8f7c0356e",
   "metadata": {},
   "outputs": [],
   "source": []
  },
  {
   "cell_type": "code",
   "execution_count": null,
   "id": "09846b6b-9897-4602-8927-df56d48aa99d",
   "metadata": {},
   "outputs": [],
   "source": []
  }
 ],
 "metadata": {
  "kernelspec": {
   "display_name": "Python 3 (ipykernel)",
   "language": "python",
   "name": "python3"
  },
  "language_info": {
   "codemirror_mode": {
    "name": "ipython",
    "version": 3
   },
   "file_extension": ".py",
   "mimetype": "text/x-python",
   "name": "python",
   "nbconvert_exporter": "python",
   "pygments_lexer": "ipython3",
   "version": "3.9.7"
  }
 },
 "nbformat": 4,
 "nbformat_minor": 5
}
