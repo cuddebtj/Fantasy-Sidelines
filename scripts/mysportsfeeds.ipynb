{
 "cells": [
  {
   "cell_type": "code",
   "execution_count": null,
   "id": "1d835163-2066-4f2b-a9a9-c39980926355",
   "metadata": {},
   "outputs": [],
   "source": [
    "import os\n",
    "from dotenv import load_dotenv\n",
    "load_dotenv()\n",
    "\n",
    "api_key = os.getenv(\"mysportsfeeds_apikey\")\n",
    "\n",
    "def snaps_api(api_key, season, week):\n",
    "    api_url = f\"https://api.mysportsfeeds.com/v2.1/pull/nfl/{season[0]}/week/{week[0]}/player_gamelogs.json\"\n",
    "\n",
    "    try:\n",
    "        response = requests.get(\n",
    "            url=f\"{api_url}\",\n",
    "            params={\n",
    "                \"fordate\": \"20211103\"\n",
    "            },\n",
    "            headers={\n",
    "                \"Authorization\": \"Basic \" + base64.b64encode(\"{}:{}\".format(api_key, \"MYSPORTSFEEDS\").encode(\"utf-8\")).decode(\"ascii\")\n",
    "            }\n",
    "        )\n",
    "        print(\"Response HTTP Status Code: {status_code}\".format(\n",
    "            status_code=response.status_code))\n",
    "    except requests.exceptions.RequestException:\n",
    "        print(\"HTTP Request failed\")\n",
    "\n",
    "    r = response.content\n",
    "    soup = BeautifulSoup(r, \"html.parser\")\n",
    "    json = soup.text\n",
    "    df = pd.json_normalize(json[\"gamelogs\"])\n",
    "    cols = list(df.columns)\n",
    "    not_drop = []\n",
    "    for c in cols:\n",
    "        if \"game.\" in c or \"player.\" in c or \"team.\" in c or \"snapCounts\" in c:\n",
    "            not_drop.append(c)\n",
    "            \n",
    "    snaps = df[not_drop]\n",
    "\n",
    "    time.sleep(5)\n",
    "    \n",
    "    return snaps\n",
    "\n",
    "def all_snaps(seasons, weeks):\n",
    "    start = time.time()\n",
    "    final_df = pd.DataFrame()\n",
    "    for s in seasons:\n",
    "        for w in weeks:\n",
    "            snaps = snaps_api(s, w)\n",
    "            final_df = pd.concat([snaps, final_df])\n",
    "            \n",
    "    print(time.time()-start)\n",
    "    return final_df"
   ]
  },
  {
   "cell_type": "code",
   "execution_count": null,
   "id": "7814f571-9610-4ccb-98b7-52f2046db875",
   "metadata": {},
   "outputs": [],
   "source": [
    "seasons = [\"2020-2021-regular\", \"2019-2020-regular\", \"2018-2019-regular\"]\n",
    "weeks = [\"1\", \"2\", \"3\", \"4\", \"5\", \"6\", \"7\", \"8\", \"9\", \"10\", \"11\", \"12\", \"13\", \"14\", \"15\", \"16\", \"17\"]"
   ]
  },
  {
   "cell_type": "code",
   "execution_count": null,
   "id": "3cf4cda2-3a23-488f-beb2-2ba967250a15",
   "metadata": {
    "tags": []
   },
   "outputs": [],
   "source": [
    "all_snaps = all_snaps(seasons, weeks)"
   ]
  },
  {
   "cell_type": "code",
   "execution_count": null,
   "id": "0cfa5a83-d1fc-4dbb-98aa-e7b3b6b91ca8",
   "metadata": {},
   "outputs": [],
   "source": [
    "all_snaps[\"stats.snapCounts.offenseSnaps\"].unique()"
   ]
  },
  {
   "cell_type": "code",
   "execution_count": null,
   "id": "ebf1cd8d-2167-4de3-bda8-b0a06e8ced39",
   "metadata": {},
   "outputs": [],
   "source": [
    "all_snaps[\"stats.snapCounts.defenseSnaps\"].unique()"
   ]
  },
  {
   "cell_type": "code",
   "execution_count": null,
   "id": "4750deff-fa0e-4b90-a4e5-42cf99267297",
   "metadata": {},
   "outputs": [],
   "source": [
    "all_snaps[\"stats.snapCounts.specialTeamSnaps\"].unique()"
   ]
  },
  {
   "cell_type": "code",
   "execution_count": null,
   "id": "45080dd2-1109-42d8-8687-cad8f7c0356e",
   "metadata": {},
   "outputs": [],
   "source": []
  },
  {
   "cell_type": "code",
   "execution_count": null,
   "id": "09846b6b-9897-4602-8927-df56d48aa99d",
   "metadata": {},
   "outputs": [],
   "source": []
  }
 ],
 "metadata": {
  "kernelspec": {
   "display_name": "Python 3 (ipykernel)",
   "language": "python",
   "name": "python3"
  },
  "language_info": {
   "codemirror_mode": {
    "name": "ipython",
    "version": 3
   },
   "file_extension": ".py",
   "mimetype": "text/x-python",
   "name": "python",
   "nbconvert_exporter": "python",
   "pygments_lexer": "ipython3",
   "version": "3.9.7"
  }
 },
 "nbformat": 4,
 "nbformat_minor": 5
}
