{
 "cells": [
  {
   "cell_type": "code",
   "execution_count": null,
   "id": "b2528a6d-7b81-4ed6-a55d-938a6e5439db",
   "metadata": {
    "tags": []
   },
   "outputs": [],
   "source": [
    "# -*- coding: utf-8 -*-\n",
    "\n",
    "\"\"\"\n",
    "{Description}\n",
    "\n",
    "MIT License\n",
    "\n",
    "Copyright (c) 2021, Fantasy-Sidelines\n",
    "\n",
    "Permission is hereby granted, free of charge, to any person obtaining a copy\n",
    "of this software and associated documentation files (the \"Software\"), to deal\n",
    "in the Software without restriction, including without limitation the rights\n",
    "to use, copy, modify, merge, publish, distribute, sublicense, and/or sell\n",
    "copies of the Software, and to permit persons to whom the Software is\n",
    "furnished to do so, subject to the following conditions:\n",
    "\n",
    "The above copyright notice and this permission notice shall be included in all\n",
    "copies or substantial portions of the Software.\n",
    "\n",
    "THE SOFTWARE IS PROVIDED \"AS IS\", WITHOUT WARRANTY +OF ANY KIND, EXPRESS OR\n",
    "IMPLIED, INCLUDING BUT NOT LIMITED TO THE WARRANTIES OF MERCHANTABILITY,\n",
    "FITNESS FOR A PARTICULAR PURPOSE AND NONINFRINGEMENT. IN NO EVENT SHALL THE\n",
    "AUTHORS OR COPYRIGHT HOLDERS BE LIABLE FOR ANY CLAIM, DAMAGES OR OTHER\n",
    "LIABILITY, WHETHER IN AN ACTION OF CONTRACT, TORT OR OTHERWISE, ARISING FROM,\n",
    "OUT OF OR IN CONNECTION WITH THE SOFTWARE OR THE USE OR OTHER DEALINGS IN THE\n",
    "SOFTWARE.\n",
    "\n",
    "Sportradar API details and documentation: https://developer.sportradar.com/docs\n",
    "MySportsFeeds API details and documentation: https://www.mysportsfeeds.com/data-feeds/api-docs/\n",
    "www.pro-football-reference.come and documentation: https://www.sports-reference.com/termsofuse.html\n",
    "\"\"\"\n",
    "\n",
    "import time\n",
    "import pyodbc\n",
    "import os\n",
    "# import pandas as pd\n",
    "import pandas as pd\n",
    "import numpy as np\n",
    "from sqlalchemy import create_engine\n",
    "from sqlalchemy import inspect\n",
    "from sqlalchemy.engine import URL\n",
    "from dotenv import load_dotenv\n",
    "\n",
    "__author__ = \"Tim Cuddeback\"\n",
    "__copyright__ = \"Copyright (c) 2021, Fantasy-Sidelines\"\n",
    "__credits__ = [\"Tim Cuddeback\", \"Sportradar API\", \"Fantasy Sharks\", \"MySportsFeeds API\"]\n",
    "__license__ = \"MIT License\"\n",
    "__version__ = \"1.1.0\"\n",
    "__maintainer__ = \"Tim Cuddeback\"\n",
    "__email__ = \"cuddebtj@gmail.com\"\n",
    "__status__ = \"Dev\"\n",
    "\n",
    "from sql_upload import *"
   ]
  },
  {
   "cell_type": "code",
   "execution_count": null,
   "id": "f79b9bf6-1a89-4512-b0a8-8969d90a8f68",
   "metadata": {
    "tags": []
   },
   "outputs": [],
   "source": [
    "load_dotenv()\n",
    "sql_driver = os.getenv(\"sql_driver\")\n",
    "# check IP address for connection timeout errors\n",
    "sql_server_16 = os.getenv(\"sql_server_16\")\n",
    "sql_server_17 = os.getenv(\"sql_server_17\")\n",
    "sql_database = os.getenv(\"sql_database\")\n",
    "sql_username = os.getenv(\"sql_username\")\n",
    "sql_password = os.getenv(\"sql_password\")\n",
    "api_key = os.getenv(\"sportradar_apikey\")\n",
    "\n",
    "year = [2020, 2019, 2018, 2017, 2016, 2015]\n",
    "\n",
    "connection_string = (\"DRIVER=\"+sql_driver\n",
    "                     +\";SERVER=\"+sql_server_16\n",
    "                     +\";DATABASE=\"+sql_database\n",
    "                     +\";UID=\"+sql_username\n",
    "                     +\";PWD=\"+sql_password)\n",
    "# cxn = pyodbc.connect(connection_string)\n",
    "connection_url = URL.create(\"mssql+pyodbc\", \n",
    "                            query={\"odbc_connect\": connection_string})\n",
    "engine = create_engine(connection_url)\n",
    "conn = engine.connect()\n",
    "\n",
    "inspector = inspect(engine)\n",
    "print(inspector.get_table_names())"
   ]
  },
  {
   "cell_type": "code",
   "execution_count": null,
   "id": "33cdc38e-0d9b-4ab4-9c30-cd41ad122535",
   "metadata": {
    "tags": []
   },
   "outputs": [],
   "source": [
    "pd.set_option(\"display.max_columns\", None)\n",
    "pd.set_option(\"display.max_colwidth\", 15)\n",
    "pd.set_option(\"display.max_rows\", None)\n",
    "# schedule_stats_api_sql(api_key, year, engine)\n",
    "# snaps(2016, 2020, engine)\n",
    "# injuries(y1, y2, engine)\n",
    "# practice_participation(season_start, season_end, engine)\n",
    "# player_table(engine)\n",
    "# game_table(engine)\n",
    "# season_table(engine)\n",
    "# week_table(engine)\n",
    "# team_table(engine)\n",
    "# venue_table(engine)\n",
    "# calendar_table(\"8/1/2016\", \"2/1/2021\", engine)\n",
    "weekly_stats_offense(conn, engine)\n",
    "\n",
    "# calendar_ID = pd.read_sql_table(\"IDCalendarTable\", con=conn)\n",
    "# game_ID = pd.read_sql_table(\"IDGameTable\", con=conn)\n",
    "# team_ID = pd.read_sql_table(\"IDTeamTable\", con=conn)\n",
    "# venue_ID = pd.read_sql_table(\"IDVenueTable\", con=conn)\n",
    "# player_practice = pd.read_sql_table(\"playerPractice\", con=conn)\n",
    "# player_snaps = pd.read_sql_table(\"playerSnaps\",  con=conn)\n",
    "# player_stats = pd.read_sql_table(\"playerStats\", con=conn)\n",
    "# schedule = pd.read_sql_table(\"schedule\", con=conn)\n",
    "# team_stats = pd.read_sql_table(\"teamStats\", con=conn)\n",
    "# weekly_stats = pd.read_sql_table(\"weeklyStats\", con=conn)"
   ]
  },
  {
   "cell_type": "code",
   "execution_count": null,
   "id": "6a499cd5-9b52-4e3a-b092-1a4b10c1fac6",
   "metadata": {},
   "outputs": [],
   "source": [
    "import seaborn as sns\n",
    "import matplotlib.pyplot as plt\n",
    "from scipy import stats\n",
    "%matplotlib inline\n",
    "weekly_stats = pd.read_sql_table(\"weeklyStats\", con=conn)"
   ]
  },
  {
   "cell_type": "code",
   "execution_count": null,
   "id": "e0b2d646-19d8-4988-944f-db4c137abb78",
   "metadata": {},
   "outputs": [],
   "source": [
    "mask = (weekly_stats[\"player.position\"] == \"RB\") & (weekly_stats[\"total.snaps\"] >= 5) & (weekly_stats[\"total_fan_pts.half.kick_yrds\"] >= 0)\n",
    "sns.displot(weekly_stats[mask], x=\"total_fan_pts.half.kick_yrds\", binwidth=1, kde=True)"
   ]
  },
  {
   "cell_type": "code",
   "execution_count": null,
   "id": "23dd4b49-4c1d-4eb7-a2b5-4ac9a4279532",
   "metadata": {},
   "outputs": [],
   "source": []
  },
  {
   "cell_type": "code",
   "execution_count": null,
   "id": "7c007c92-66d8-4b9c-8287-1d13ba5013e0",
   "metadata": {},
   "outputs": [],
   "source": []
  },
  {
   "cell_type": "code",
   "execution_count": null,
   "id": "2a693940-b27d-4bc2-9039-4d779b10941a",
   "metadata": {},
   "outputs": [],
   "source": []
  },
  {
   "cell_type": "code",
   "execution_count": null,
   "id": "c0b8246b-7bfa-46ec-856c-b0b8a57a88f6",
   "metadata": {},
   "outputs": [],
   "source": [
    "corr = weekly_stats.corr()\n",
    "def background_pandas(x):\n",
    "    try:\n",
    "        if x >= 0.5:\n",
    "            bg_color = \"green\"\n",
    "        elif x <= -0.5:\n",
    "            bg_color = \"green\"\n",
    "        else:\n",
    "            bg_color = \"\"\n",
    "        return f\"background-color : {bg_color}\"\n",
    "\n",
    "    except:\n",
    "        return \"background-color: ''\"\n",
    "    \n",
    "corr.style.format(precision=3).applymap(background_pandas).to_excel(\"correlations.xlsx\", engine=\"openpyxl\")"
   ]
  },
  {
   "cell_type": "code",
   "execution_count": null,
   "id": "99830f46-b5ed-4b41-8598-8f8322da0378",
   "metadata": {},
   "outputs": [],
   "source": []
  },
  {
   "cell_type": "code",
   "execution_count": null,
   "id": "3da4ed97-5a4d-4466-8863-3cf4878e3dc9",
   "metadata": {},
   "outputs": [],
   "source": []
  },
  {
   "cell_type": "code",
   "execution_count": null,
   "id": "617c8c90-8f17-4f50-add5-853eefb77fff",
   "metadata": {},
   "outputs": [],
   "source": []
  },
  {
   "cell_type": "code",
   "execution_count": null,
   "id": "59fe2ebc-1440-4130-a366-239c20241314",
   "metadata": {},
   "outputs": [],
   "source": [
    "conn.close()\n",
    "# cxn.close()"
   ]
  },
  {
   "cell_type": "code",
   "execution_count": null,
   "id": "e24a68d1-b956-4a97-9cde-1eff17c493fd",
   "metadata": {},
   "outputs": [],
   "source": []
  }
 ],
 "metadata": {
  "kernelspec": {
   "display_name": "Python 3 (ipykernel)",
   "language": "python",
   "name": "python3"
  },
  "language_info": {
   "codemirror_mode": {
    "name": "ipython",
    "version": 3
   },
   "file_extension": ".py",
   "mimetype": "text/x-python",
   "name": "python",
   "nbconvert_exporter": "python",
   "pygments_lexer": "ipython3",
   "version": "3.9.7"
  }
 },
 "nbformat": 4,
 "nbformat_minor": 5
}
