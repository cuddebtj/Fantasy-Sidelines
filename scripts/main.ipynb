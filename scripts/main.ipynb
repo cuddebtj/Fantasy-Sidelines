{
 "cells": [
  {
   "cell_type": "code",
   "execution_count": 1,
   "id": "a4f91245-c246-46b9-b413-15091647a789",
   "metadata": {},
   "outputs": [],
   "source": [
    "from api import NFL, CLEAN\n",
    "import os\n",
    "import urllib\n",
    "import pyodbc\n",
    "import sqlalchemy as sa\n",
    "import pandas as pd\n",
    "from dotenv import load_dotenv\n",
    "load_dotenv()\n",
    "pd.set_option(\"display.max_columns\", None)\n",
    "pd.set_option(\"display.max_rows\", None)\n",
    "pd.set_option(\"display.max_colwidth\", 100)"
   ]
  },
  {
   "cell_type": "code",
   "execution_count": 17,
   "id": "e66189b0-2d4c-4b19-ac4e-db431d6c6333",
   "metadata": {
    "tags": []
   },
   "outputs": [],
   "source": [
    "api_key = [os.getenv(\"sportradar_apikey\"), os.getenv(\"sportradar_apikey2\")]\n",
    "year = [2020, 2019, 2018, 2017, 2016, 2015]"
   ]
  },
  {
   "cell_type": "code",
   "execution_count": 18,
   "id": "1cc388c2-acc2-4ff9-83e0-630033ad4a23",
   "metadata": {
    "tags": []
   },
   "outputs": [],
   "source": [
    "def get_season(api_key, year, access_level=\"trial\", version=\"v7\", language_code=\"en\", format_=\"json\", sleep_time=2, timeout=5):\n",
    "    season = NFL(api_key, access_level=access_level, version=version, language_code=language_code, format_=format_, sleep_time=sleep_time, timeout=timeout)\n",
    "\n",
    "    schedule_api = season.season_schedule(year)\n",
    "    schedule = CLEAN().schedule_clean(schedule_api)\n",
    "    game_id_list = list(schedule[\"game.id\"].unique())\n",
    "    \n",
    "    players_stats = pd.DataFrame()\n",
    "    teams_stats = pd.DataFrame()\n",
    "\n",
    "    for game_id in range(len(game_id_list)):\n",
    "        statistics_api = season.game_statistics(game_id_list[game_id])\n",
    "        \n",
    "        players = CLEAN().player_stats_clean(statistics_api)\n",
    "        teams = CLEAN().teams_stats_clean(statistics_api)\n",
    "        \n",
    "        players_stats = pd.concat([players, players_stats])\n",
    "        teams_stats = pd.concat([teams, teams_stats])\n",
    "\n",
    "    return schedule, players_stats, teams_stats"
   ]
  },
  {
   "cell_type": "code",
   "execution_count": null,
   "id": "78cd0103-0398-44b6-a83c-2456f187ed89",
   "metadata": {},
   "outputs": [],
   "source": [
    "schedule_2020, players_stats_2020, teams_stats_2020 = get_season(api_key[0], year[0])"
   ]
  },
  {
   "cell_type": "code",
   "execution_count": null,
   "id": "718be2af-0d1a-48c6-b2b8-bc0eec67ccb3",
   "metadata": {},
   "outputs": [],
   "source": [
    "schedule_2019, players_stats_2019, teams_stats_2019 = get_season(api_key[0], year[1])"
   ]
  },
  {
   "cell_type": "code",
   "execution_count": null,
   "id": "e296940e-6ba4-4113-a201-67840d70c9c4",
   "metadata": {},
   "outputs": [],
   "source": [
    "schedule_2018, players_stats_2018, teams_stats_2018 = get_season(api_key[0], year[2])"
   ]
  },
  {
   "cell_type": "code",
   "execution_count": null,
   "id": "a507f110-9604-44dc-ab90-5757700113ac",
   "metadata": {},
   "outputs": [],
   "source": [
    "schedule_2017, players_stats_2017, teams_stats_2015 = get_season(api_key[1], year[3])"
   ]
  },
  {
   "cell_type": "code",
   "execution_count": null,
   "id": "d33feaf2-dac4-4334-8839-d93062aa4eb0",
   "metadata": {},
   "outputs": [],
   "source": [
    "schedule_2016, players_stats_2016, teams_stats_2016 = get_season(api_key[1], year[4])"
   ]
  },
  {
   "cell_type": "code",
   "execution_count": null,
   "id": "a7ce6f9b-4b0f-48c9-b869-4894e5e7fdc0",
   "metadata": {},
   "outputs": [],
   "source": [
    "schedule_2015, players_stats_2015, teams_stats_2015 = get_season(api_key[1], year[5])"
   ]
  },
  {
   "cell_type": "code",
   "execution_count": null,
   "id": "ed4dd076-d084-4137-a2be-0a11fced1e91",
   "metadata": {},
   "outputs": [],
   "source": [
    "schedule = pd.concat([schedule_2020, schedule_2019, schedule_2018, schedule_2017, schedule_2016, schedule_2015])\n",
    "players_stats = pd.concat([players_stats_2020, players_stats_2019, players_stats_2018, players_stats_2017, players_stats_2016, players_stats_2015])\n",
    "teams_stats = pd.concat([teams_stats_2020, teams_stats_2019, teams_stats_2018, teams_stats_2017, teams_stats_2016, teams_stats_2015])"
   ]
  },
  {
   "cell_type": "code",
   "execution_count": null,
   "id": "de23c16e-9180-4c9c-8105-547d133aa35e",
   "metadata": {},
   "outputs": [],
   "source": [
    "print(schedule_2020.shape)\n",
    "print(players_stats_2020.shape)\n",
    "print(teams_stats_2020.shape)"
   ]
  },
  {
   "cell_type": "code",
   "execution_count": null,
   "id": "b061e3a6-5ab2-447e-8897-dfad8344de6f",
   "metadata": {},
   "outputs": [],
   "source": [
    "print(schedule.shape)\n",
    "print(players_stats.shape)\n",
    "print(teams_stats.shape)"
   ]
  },
  {
   "cell_type": "code",
   "execution_count": null,
   "id": "f0a293e2-f06a-4a89-8423-19e9d43dce39",
   "metadata": {},
   "outputs": [],
   "source": []
  },
  {
   "cell_type": "code",
   "execution_count": null,
   "id": "be711ebd-cd01-4126-bbb8-5fee5e120f48",
   "metadata": {},
   "outputs": [],
   "source": []
  },
  {
   "cell_type": "code",
   "execution_count": null,
   "id": "f2f851a1-5aaa-4273-8ba5-a265b45f2c02",
   "metadata": {},
   "outputs": [],
   "source": []
  },
  {
   "cell_type": "code",
   "execution_count": null,
   "id": "24c0af86-be3d-44d8-9686-3cada0c96fd2",
   "metadata": {},
   "outputs": [],
   "source": []
  },
  {
   "cell_type": "code",
   "execution_count": null,
   "id": "db90d47a-875f-42b7-9e63-6edb59eba4d1",
   "metadata": {},
   "outputs": [],
   "source": []
  },
  {
   "cell_type": "code",
   "execution_count": null,
   "id": "a5564026-87ca-4103-a1fa-496ffe416ea9",
   "metadata": {},
   "outputs": [],
   "source": []
  },
  {
   "cell_type": "code",
   "execution_count": null,
   "id": "c574bc7a-13ac-403c-8cad-ca0aac7f3d1b",
   "metadata": {},
   "outputs": [],
   "source": []
  },
  {
   "cell_type": "code",
   "execution_count": null,
   "id": "1be679e8-f4d2-464a-b431-d21b27b202dc",
   "metadata": {},
   "outputs": [],
   "source": [
    "sql_server = \"192.168.1.17\\SQLEXPRESS\"\n",
    "database = \"FantasySidelines\"\n",
    "sql_username = os.getenv(\"sql_username\")\n",
    "sql_password = os.getenv(\"sql_password\")\n",
    "\n",
    "connection_string = (\n",
    "    \"DRIVER={OBDC Driver 17 for SQL Server};\"\\\n",
    "    f\"SERVER={sql_server};\"\\\n",
    "    f\"Database={database};\"\\\n",
    "    f\"UID={sql_username};\"\\\n",
    "    f\"PWD={sql_password};\"\\\n",
    "    \"Trusted_Connection=no;\"\n",
    ")\n",
    "\n",
    "connection_uri = f\"mssql+pyodbc://?odbc_connection={urllib.parse.quote_plus(connection_string)}\"\n",
    "engine = sa.create_engine(connection_uri, fast_executemany=True)\n",
    "conn = engine.connect()    \n",
    "\n",
    "# schedule.to_sql(\"schedule\", engine, if_exists=\"append\", index=False)\n",
    "# players_stats.to_sql(\"playerStats\", engine, if_exists=\"append\", index=False)\n",
    "# teams_stats.to_sql(\"teamStats\", engine, if_exists=\"append\", index=False)"
   ]
  },
  {
   "cell_type": "code",
   "execution_count": null,
   "id": "91d93a13-168e-4744-a0f2-83a4c6974fbb",
   "metadata": {},
   "outputs": [],
   "source": []
  },
  {
   "cell_type": "code",
   "execution_count": null,
   "id": "5fe2ed35-be8a-4d88-b23c-98621e3481ed",
   "metadata": {},
   "outputs": [],
   "source": []
  },
  {
   "cell_type": "code",
   "execution_count": null,
   "id": "5024dea9-ab08-4c46-8737-3a64fd89c9a2",
   "metadata": {},
   "outputs": [],
   "source": []
  },
  {
   "cell_type": "code",
   "execution_count": null,
   "id": "cc55df30-edd6-4852-807d-11309a373927",
   "metadata": {},
   "outputs": [],
   "source": [
    "# import smtplib\n",
    "# import time\n",
    "\n",
    "\n",
    "\n",
    "# email = os.getenv(\"notification_email\")\n",
    "# email_password = os.getenv(\"notification_password\")\n",
    "# error = \"\"\n",
    "# try:\n",
    "#     pass\n",
    "# except Exception as _ex:\n",
    "#     error = repr(_ex)\n",
    "# to = \"cuddebtj@gmail.com\"    \n",
    "# if error != \"\":\n",
    "#     subject = \"Python Script Error\"\n",
    "#     body = f\"Error raised: {error}\\nTime to error: {(end_time-start_time)/60}\"\n",
    "# else:\n",
    "#     subject = \"Python Script Complete\"\n",
    "#     body = f\"Script complete without errors.\\nTime to error: {(end_time-start_time)/60}\"\n",
    "# email_text = f\"From: {email}\" \\\n",
    "#              f\"To: {to}\"\\\n",
    "#              f\"Subject: {subject}\"\\\n",
    "#              f\"{body}\"\n",
    "# server = smtplib.SMTP_SSL(\"smtp.gmail.com\", 465)\n",
    "# server. ehlo()\n",
    "# server.login(email, email_password)\n",
    "# server.sendmail(email, to, email_text)\n",
    "# server.close()"
   ]
  }
 ],
 "metadata": {
  "kernelspec": {
   "display_name": "Python 3 (ipykernel)",
   "language": "python",
   "name": "python3"
  },
  "language_info": {
   "codemirror_mode": {
    "name": "ipython",
    "version": 3
   },
   "file_extension": ".py",
   "mimetype": "text/x-python",
   "name": "python",
   "nbconvert_exporter": "python",
   "pygments_lexer": "ipython3",
   "version": "3.9.7"
  }
 },
 "nbformat": 4,
 "nbformat_minor": 5
}
