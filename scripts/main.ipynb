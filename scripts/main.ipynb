{
 "cells": [
  {
   "cell_type": "code",
   "execution_count": null,
   "id": "a4f91245-c246-46b9-b413-15091647a789",
   "metadata": {},
   "outputs": [],
   "source": [
    "from api import NFL, CLEAN\n",
    "import pyodbc\n",
    "import os\n",
    "import urllib\n",
    "from sqlalchemy import create_engine\n",
    "from sqlalchemy.engine import URL\n",
    "import pandas as pd\n",
    "from dotenv import load_dotenv\n",
    "load_dotenv()\n",
    "pd.set_option(\"display.max_columns\", None)\n",
    "pd.set_option(\"display.max_rows\", None)\n",
    "pd.set_option(\"display.max_colwidth\", 100)\n",
    "\n",
    "sql_server = \"192.168.1.17\\SQLEXPRESS\"\n",
    "database = \"FantasySidelines\"\n",
    "sql_username = os.getenv(\"sql_username\")\n",
    "sql_password = os.getenv(\"sql_password\")\n",
    "\n",
    "connection_string = (r\"DRIVER=ODBC Driver 17 for SQL Server;\"\n",
    "                     +fr\"SERVER={sql_server};\"\n",
    "                     +fr\"Database={database};\"\n",
    "                     +fr\"UID={sql_username};\"\n",
    "                     +fr\"PWD={sql_password};\")\n",
    "\n",
    "cxn = pyodbc.connect(connection_string)\n",
    "\n",
    "connection_url = URL.create(\"mssql+pyodbc\", \n",
    "                            query={\"odbc_connect\": connection_string})\n",
    "engine = create_engine(connection_url)\n",
    "conn = engine.connect()\n",
    "\n",
    "api_key = [os.getenv(\"sportradar_apikey\"), os.getenv(\"sportradar_apikey2\"), os.getenv(\"sportradar_apikey3\")]\n",
    "year = [2020, 2019, 2018, 2017, 2016, 2015]"
   ]
  },
  {
   "cell_type": "code",
   "execution_count": null,
   "id": "1cc388c2-acc2-4ff9-83e0-630033ad4a23",
   "metadata": {
    "tags": []
   },
   "outputs": [],
   "source": [
    "def get_season(api_key, year, access_level=\"trial\", version=\"v7\", language_code=\"en\", format_=\"json\", sleep_time=2, timeout=5):\n",
    "    season = NFL(api_key, access_level=access_level, version=version, language_code=language_code, format_=format_, sleep_time=sleep_time, timeout=timeout)\n",
    "\n",
    "    schedule_api = season.season_schedule(year)\n",
    "    schedule = CLEAN().schedule_clean(schedule_api)\n",
    "    game_id_list = list(schedule[\"game.id\"].unique())\n",
    "    \n",
    "    players_stats = pd.DataFrame()\n",
    "    teams_stats = pd.DataFrame()\n",
    "\n",
    "    for game_id in range(len(game_id_list)):\n",
    "        statistics_api = season.game_statistics(game_id_list[game_id])\n",
    "        \n",
    "        players = CLEAN().player_stats_clean(statistics_api)\n",
    "        teams = CLEAN().teams_stats_clean(statistics_api)\n",
    "        \n",
    "        players_stats = pd.concat([players, players_stats])\n",
    "        teams_stats = pd.concat([teams, teams_stats])\n",
    "\n",
    "    return schedule, players_stats, teams_stats"
   ]
  },
  {
   "cell_type": "code",
   "execution_count": null,
   "id": "78cd0103-0398-44b6-a83c-2456f187ed89",
   "metadata": {
    "tags": []
   },
   "outputs": [],
   "source": [
    "# schedule_2020, players_stats_2020, teams_stats_2020 = get_season(api_key[0], year[0])\n",
    "# schedule_2019, players_stats_2019, teams_stats_2019 = get_season(api_key[0], year[1])\n",
    "# schedule_2018, players_stats_2018, teams_stats_2018 = get_season(api_key[0], year[2])\n",
    "# schedule_2017, players_stats_2017, teams_stats_2017 = get_season(api_key[2], year[3])\n",
    "# schedule_2016, players_stats_2016, teams_stats_2016 = get_season(api_key[1], year[4])\n",
    "# schedule_2015, players_stats_2015, teams_stats_2015 = get_season(api_key[1], year[5])\n",
    "# schedule = pd.concat([schedule_2020, schedule_2019, schedule_2018, schedule_2017, schedule_2016, schedule_2015])\n",
    "# players_stats = pd.concat([players_stats_2020, players_stats_2019, players_stats_2018, players_stats_2017, players_stats_2016, players_stats_2015])\n",
    "# teams_stats = pd.concat([teams_stats_2020, teams_stats_2019, teams_stats_2018, teams_stats_2017, teams_stats_2016, teams_stats_2015])"
   ]
  },
  {
   "cell_type": "code",
   "execution_count": null,
   "id": "1be679e8-f4d2-464a-b431-d21b27b202dc",
   "metadata": {
    "tags": []
   },
   "outputs": [],
   "source": [
    "schedule.to_sql(\"schedule\", engine, if_exists=\"append\", index=False, schema=\"dbo\" chunksize=500)\n",
    "players_stats.to_sql(\"playerStats\", engine, if_exists=\"append\", index=False, schema=\"dbo\", chunksize=500)\n",
    "teams_stats.to_sql(\"teamStats\", engine, if_exists=\"append\", index=False, schema=\"dbo\", chunksize=500)"
   ]
  },
  {
   "cell_type": "code",
   "execution_count": null,
   "id": "5fe2ed35-be8a-4d88-b23c-98621e3481ed",
   "metadata": {},
   "outputs": [],
   "source": []
  },
  {
   "cell_type": "code",
   "execution_count": null,
   "id": "5024dea9-ab08-4c46-8737-3a64fd89c9a2",
   "metadata": {},
   "outputs": [],
   "source": []
  },
  {
   "cell_type": "code",
   "execution_count": null,
   "id": "cc55df30-edd6-4852-807d-11309a373927",
   "metadata": {},
   "outputs": [],
   "source": [
    "# import smtplib\n",
    "# import time\n",
    "\n",
    "# email = os.getenv(\"notification_email\")\n",
    "# email_password = os.getenv(\"notification_password\")\n",
    "# error = \"\"\n",
    "# try:\n",
    "#     pass\n",
    "# except Exception as _ex:\n",
    "#     error = repr(_ex)\n",
    "# to = \"cuddebtj@gmail.com\"    \n",
    "# if error != \"\":\n",
    "#     subject = \"Python Script Error\"\n",
    "#     body = f\"Error raised: {error}\\nTime to error: {(end_time-start_time)/60}\"\n",
    "# else:\n",
    "#     subject = \"Python Script Complete\"\n",
    "#     body = f\"Script complete without errors.\\nTime to error: {(end_time-start_time)/60}\"\n",
    "# email_text = f\"From: {email}\" \\\n",
    "#              f\"To: {to}\"\\\n",
    "#              f\"Subject: {subject}\"\\\n",
    "#              f\"{body}\"\n",
    "# server = smtplib.SMTP_SSL(\"smtp.gmail.com\", 465)\n",
    "# server. ehlo()\n",
    "# server.login(email, email_password)\n",
    "# server.sendmail(email, to, email_text)\n",
    "# server.close()"
   ]
  }
 ],
 "metadata": {
  "kernelspec": {
   "display_name": "Python 3 (ipykernel)",
   "language": "python",
   "name": "python3"
  },
  "language_info": {
   "codemirror_mode": {
    "name": "ipython",
    "version": 3
   },
   "file_extension": ".py",
   "mimetype": "text/x-python",
   "name": "python",
   "nbconvert_exporter": "python",
   "pygments_lexer": "ipython3",
   "version": "3.9.7"
  }
 },
 "nbformat": 4,
 "nbformat_minor": 5
}
