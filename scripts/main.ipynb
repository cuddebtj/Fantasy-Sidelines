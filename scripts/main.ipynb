{
 "cells": [
  {
   "cell_type": "code",
   "execution_count": null,
   "id": "a4f91245-c246-46b9-b413-15091647a789",
   "metadata": {},
   "outputs": [],
   "source": [
    "from api import NFL, CLEAN\n",
    "import os\n",
    "import pyodbc\n",
    "import sqlalchemy as sa\n",
    "import pandas as pd\n",
    "from dotenv import load_dotenv\n",
    "load_dotenv()\n",
    "pd.set_option(\"display.max_columns\", None)\n",
    "pd.set_option(\"display.max_rows\", None)\n",
    "pd.set_option(\"display.max_colwidth\", 100)"
   ]
  },
  {
   "cell_type": "code",
   "execution_count": null,
   "id": "e66189b0-2d4c-4b19-ac4e-db431d6c6333",
   "metadata": {
    "tags": []
   },
   "outputs": [],
   "source": [
    "api_key = os.getenv(\"sportradar_apikey\")\n",
    "# api_key = os.getenv(\"sportradar_apikey2\")\n",
    "year = 2020\n",
    "# year = 2019\n",
    "# year = 2018\n",
    "# year = 2017\n",
    "# year = 2016\n",
    "# year = 2015"
   ]
  },
  {
   "cell_type": "code",
   "execution_count": null,
   "id": "1cc388c2-acc2-4ff9-83e0-630033ad4a23",
   "metadata": {
    "tags": []
   },
   "outputs": [],
   "source": [
    "def get_season(api_key, year, access_level=\"trial\", version=\"v7\", language_code=\"en\", format_=\"json\", sleep_time=2, timeout=5):\n",
    "    season = NFL(api_key, access_level=access_level, version=version, language_code=language_code, format_=format_, sleep_time=sleep_time, timeout=timeout)\n",
    "    \n",
    "    sql_server = \"192.168.1.17\\SQLEXPRESS\"\n",
    "    database = \"FantasySidelines\"\n",
    "    sql_username = os.getenv(\"sql_username\")\n",
    "    sql_password = os.getenv(\"sql_password\")\n",
    "\n",
    "    connection_string = (\n",
    "        \"DRIVER={OBDC Driver 17 for SQL Server};\"\\\n",
    "        f\"SERVER={sql_server};\"\\\n",
    "        f\"Database={database};\"\\\n",
    "        f\"UID={sql_username};\"\\\n",
    "        f\"PWD={sql_password};\"\\\n",
    "        \"Trusted_Connection=no;\"\n",
    "    )\n",
    "\n",
    "    connection_uri = f\"mssql+pyodbc://?odbc_connection={urllib.parse.quote_plus(connection_string)}\"\n",
    "    engine = sa.create_engine(connection_uri, fast_executemany=True)\n",
    "    conn = engine.connect()    \n",
    "    \n",
    "    schedule = pd.DataFrame()\n",
    "    player_stats = pd.DataFrame()\n",
    "    team_stats = pd.DataFrame()\n",
    "\n",
    "    schedule_api = season.season_schedule(year)\n",
    "    _schedule = CLEAN().schedule_clean(schedule_api)\n",
    "    \n",
    "    game_id = _schedule[\"game.id\"].to_list()\n",
    "    \n",
    "    _player_stats = pd.DataFrame()\n",
    "    _team_stats = pd.DataFrame()\n",
    "\n",
    "    for game in game_id:\n",
    "        statistics_api = season.game_statistics(game)\n",
    "        \n",
    "        _player = CLEAN().player_stats_clean(statistics_api)\n",
    "        _player_stats = pd.concat([_player, _player_stats])\n",
    "        \n",
    "        _team = CLEAN().team_stats_clean(statistics_api)\n",
    "        _team_stats = pd.concat([_team, _team_stats])\n",
    "\n",
    "    schedule = pd.concat([_schedule, schedule])\n",
    "    player_stats = pd.concat([_player_stats, player_stats])\n",
    "    team_stats = pd.concat([_team_stats, team_stats])\n",
    "    \n",
    "    schedule_team = pd.concat([schedule, team_stats], axis=1)\n",
    "    \n",
    "    schedule_team.to_sql(f\"teamStats{year}\", engine, if_exists=\"append\", index=False)\n",
    "    plaer_stats.to_sql(f\"playerStats{year}\", engine, if_exists=\"append\", index=False)\n",
    "    \n",
    "    return schedule_team, player_stats"
   ]
  },
  {
   "cell_type": "code",
   "execution_count": null,
   "id": "1be679e8-f4d2-464a-b431-d21b27b202dc",
   "metadata": {},
   "outputs": [],
   "source": []
  },
  {
   "cell_type": "code",
   "execution_count": null,
   "id": "91d93a13-168e-4744-a0f2-83a4c6974fbb",
   "metadata": {},
   "outputs": [],
   "source": []
  },
  {
   "cell_type": "code",
   "execution_count": null,
   "id": "5fe2ed35-be8a-4d88-b23c-98621e3481ed",
   "metadata": {},
   "outputs": [],
   "source": []
  },
  {
   "cell_type": "code",
   "execution_count": null,
   "id": "cc55df30-edd6-4852-807d-11309a373927",
   "metadata": {},
   "outputs": [],
   "source": [
    "# import smtplib\n",
    "# import time\n",
    "\n",
    "\n",
    "\n",
    "# email = os.getenv(\"notification_email\")\n",
    "# email_password = os.getenv(\"notification_password\")\n",
    "# error = \"\"\n",
    "# try:\n",
    "#     pass\n",
    "# except Exception as _ex:\n",
    "#     error = repr(_ex)\n",
    "# to = \"cuddebtj@gmail.com\"    \n",
    "# if error != \"\":\n",
    "#     subject = \"Python Script Error\"\n",
    "#     body = f\"Error raised: {error}\\nTime to error: {(end_time-start_time)/60}\"\n",
    "# else:\n",
    "#     subject = \"Python Script Complete\"\n",
    "#     body = f\"Script complete without errors.\\nTime to error: {(end_time-start_time)/60}\"\n",
    "# email_text = f\"From: {email}\" \\\n",
    "#              f\"To: {to}\"\\\n",
    "#              f\"Subject: {subject}\"\\\n",
    "#              f\"{body}\"\n",
    "# server = smtplib.SMTP_SSL(\"smtp.gmail.com\", 465)\n",
    "# server. ehlo()\n",
    "# server.login(email, email_password)\n",
    "# server.sendmail(email, to, email_text)\n",
    "# server.close()"
   ]
  }
 ],
 "metadata": {
  "kernelspec": {
   "display_name": "Python 3 (ipykernel)",
   "language": "python",
   "name": "python3"
  },
  "language_info": {
   "codemirror_mode": {
    "name": "ipython",
    "version": 3
   },
   "file_extension": ".py",
   "mimetype": "text/x-python",
   "name": "python",
   "nbconvert_exporter": "python",
   "pygments_lexer": "ipython3",
   "version": "3.9.7"
  }
 },
 "nbformat": 4,
 "nbformat_minor": 5
}
