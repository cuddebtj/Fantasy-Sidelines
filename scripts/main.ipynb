{
 "cells": [
  {
   "cell_type": "code",
   "execution_count": null,
   "id": "a4f91245-c246-46b9-b413-15091647a789",
   "metadata": {},
   "outputs": [],
   "source": [
    "from api import NFL, CLEAN\n",
    "import os\n",
    "import pandas as pd\n",
    "from dotenv import load_dotenv\n",
    "load_dotenv()\n",
    "pd.set_option(\"display.max_columns\", None)\n",
    "pd.set_option(\"display.max_rows\", None)\n",
    "pd.set_option(\"display.max_colwidth\", 100)"
   ]
  },
  {
   "cell_type": "code",
   "execution_count": null,
   "id": "e66189b0-2d4c-4b19-ac4e-db431d6c6333",
   "metadata": {
    "tags": []
   },
   "outputs": [],
   "source": [
    "api_key = os.getenv(\"sportradar_apikey\")\n",
    "year = 2020"
   ]
  },
  {
   "cell_type": "code",
   "execution_count": null,
   "id": "1cc388c2-acc2-4ff9-83e0-630033ad4a23",
   "metadata": {
    "tags": []
   },
   "outputs": [],
   "source": [
    "def get_season(api_key, year, access_level=\"trial\", version=\"v7\", language_code=\"en\", format_=\"json\", sleep_time=2, timeout=5):\n",
    "    season = NFL(api_key, access_level=access_level, version=version, language_code=language_code, format_=format_, sleep_time=sleep_time, timeout=timeout)\n",
    "    schedule = pd.DataFrame()\n",
    "    player_stats = pd.DataFrame()\n",
    "    team_stats = pd.DataFrame()\n",
    "\n",
    "    schedule_api = season.season_schedule(year)\n",
    "    _schedule = CLEAN().schedule_clean(schedule_api)\n",
    "    \n",
    "    game_id = _schedule[\"game.id\"].to_list()\n",
    "    \n",
    "    _player_stats = pd.DataFrame()\n",
    "    _team_stats = pd.DataFrame()\n",
    "    # _game_roster = pd.DataFrame()\n",
    "\n",
    "    for game in game_id:\n",
    "        statistics_api = season.game_statistics(game)\n",
    "        # roster_api = season.game_roster(game)\n",
    "        \n",
    "        _player = CLEAN().player_stats_clean(statistics_api)\n",
    "        _player_stats = pd.concat([_player, _player_stats])\n",
    "        \n",
    "        _team = CLEAN().team_stats_clean(statistics_api)\n",
    "        _team_stats = pd.concat([_team, _team_stats])\n",
    "        \n",
    "        # _roster = CLEAN().game_roster_clean(roster_api)\n",
    "        # _game_roster = pd.concat([_roster, _game_roster])\n",
    "\n",
    "    schedule = pd.concat([_schedule, schedule])\n",
    "    player_stats = pd.concat([_player_stats, player_stats])\n",
    "    team_stats = pd.concat([_team_stats, team_stats])\n",
    "    # game_roster = pd.concat([_game_roster, game_roster])\n",
    "    \n",
    "    return schedule, player_stats, team_stats, game_roster"
   ]
  },
  {
   "cell_type": "code",
   "execution_count": null,
   "id": "704cc6d0-c111-4f8f-8f85-b6b293f7ecdc",
   "metadata": {},
   "outputs": [],
   "source": [
    "api_key = os.getenv(\"sportradar_apikey\")\n",
    "year = 2015\n",
    "season = NFL(api_key)\n",
    "\n",
    "schedule_api = season.season_schedule(year)\n",
    "schedule_data = CLEAN().schedule_clean(schedule_api)\n",
    "game_id = schedule_data[\"game.id\"].to_list()\n",
    "roster_api = season.game_roster(game_id[0])"
   ]
  },
  {
   "cell_type": "code",
   "execution_count": null,
   "id": "6b486f24-ce25-4a7f-b7bf-6794e84936bf",
   "metadata": {},
   "outputs": [],
   "source": []
  },
  {
   "cell_type": "code",
   "execution_count": null,
   "id": "e335a8d2-3a31-470b-ba2a-82b4532b6e30",
   "metadata": {},
   "outputs": [],
   "source": []
  },
  {
   "cell_type": "code",
   "execution_count": null,
   "id": "afddd3f4-e10c-40d6-b746-44f1252efedd",
   "metadata": {},
   "outputs": [],
   "source": []
  },
  {
   "cell_type": "code",
   "execution_count": null,
   "id": "1e9619cd-1919-41c5-be52-3befca6b4f8b",
   "metadata": {},
   "outputs": [],
   "source": []
  },
  {
   "cell_type": "code",
   "execution_count": null,
   "id": "0894b5bb-49c6-4c34-9a34-bef12d7bc745",
   "metadata": {},
   "outputs": [],
   "source": []
  },
  {
   "cell_type": "code",
   "execution_count": null,
   "id": "1be679e8-f4d2-464a-b431-d21b27b202dc",
   "metadata": {},
   "outputs": [],
   "source": []
  },
  {
   "cell_type": "code",
   "execution_count": null,
   "id": "91d93a13-168e-4744-a0f2-83a4c6974fbb",
   "metadata": {},
   "outputs": [],
   "source": []
  },
  {
   "cell_type": "code",
   "execution_count": null,
   "id": "5fe2ed35-be8a-4d88-b23c-98621e3481ed",
   "metadata": {},
   "outputs": [],
   "source": []
  },
  {
   "cell_type": "code",
   "execution_count": null,
   "id": "6916b8d7-4356-4114-9ab4-15ba992713e9",
   "metadata": {},
   "outputs": [],
   "source": [
    "# schedule_api = season.season_schedule(year)\n",
    "# schedule_data = CLEAN().schedule_clean(schedule_api)\n",
    "# game_id = schedule_data[\"game.id\"].to_list()\n",
    "# statistics_api = season.game_statistics(game_id[0])\n",
    "# player_data = CLEAN().player_stats_clean(statistics_api)\n",
    "# team_data = CLEAN().teams_stats_clean(statistics_api)"
   ]
  },
  {
   "cell_type": "code",
   "execution_count": null,
   "id": "cc55df30-edd6-4852-807d-11309a373927",
   "metadata": {},
   "outputs": [],
   "source": [
    "# import smtplib\n",
    "# import pyodbc\n",
    "# import sqlalchemy as sa\n",
    "# import time\n",
    "\n",
    "\n",
    "\n",
    "# email = os.getenv(\"notification_email\")\n",
    "# email_password = os.getenv(\"notification_password\")\n",
    "# error = \"\"\n",
    "# try:\n",
    "#     pass\n",
    "# except Exception as _ex:\n",
    "#     error = repr(_ex)\n",
    "# to = \"cuddebtj@gmail.com\"    \n",
    "# if error != \"\":\n",
    "#     subject = \"Python Script Error\"\n",
    "#     body = f\"Error raised: {error}\\nTime to error: {(end_time-start_time)/60}\"\n",
    "# else:\n",
    "#     subject = \"Python Script Complete\"\n",
    "#     body = f\"Script complete without errors.\\nTime to error: {(end_time-start_time)/60}\"\n",
    "# email_text = f\"From: {email}\" \\\n",
    "#              f\"To: {to}\"\\\n",
    "#              f\"Subject: {subject}\"\\\n",
    "#              f\"{body}\"\n",
    "# server = smtplib.SMTP_SSL(\"smtp.gmail.com\", 465)\n",
    "# server. ehlo()\n",
    "# server.login(email, email_password)\n",
    "# server.sendmail(email, to, email_text)\n",
    "# server.close()"
   ]
  },
  {
   "cell_type": "code",
   "execution_count": null,
   "id": "3e8e0692-8a0d-4fb8-8eeb-598712e01c8c",
   "metadata": {},
   "outputs": [],
   "source": [
    "# sql_server = \"192.168.1.17\\SQLEXPRESS\"\n",
    "# database = \"FantasySidelines\"\n",
    "# sql_username = os.getenv(\"sql_username\")\n",
    "# sql_password = os.getenv(\"sql_password\")\n",
    "\n",
    "# connection_string = (\n",
    "#     \"DRIVER={OBDC Driver 17 for SQL Server};\"\\\n",
    "#     f\"SERVER={sql_server};\"\\\n",
    "#     f\"Database={database};\"\\\n",
    "#     f\"UID={sql_username};\"\\\n",
    "#     f\"PWD={sql_password};\"\\\n",
    "#     \"Trusted_Connection=no;\"\n",
    "# )\n",
    "\n",
    "# connection_uri = f\"mssql+pyodbc://?odbc_connection={urllib.parse.quote_plus(connection_string)}\"\n",
    "# engine = sa.create_engine(connection_uri, fast_executemany=True)\n",
    "# conn = engine.connect()\n",
    "# df.to_sql(\"table\", engine, if_exists=\"append\", index=False)"
   ]
  }
 ],
 "metadata": {
  "kernelspec": {
   "display_name": "Python 3 (ipykernel)",
   "language": "python",
   "name": "python3"
  },
  "language_info": {
   "codemirror_mode": {
    "name": "ipython",
    "version": 3
   },
   "file_extension": ".py",
   "mimetype": "text/x-python",
   "name": "python",
   "nbconvert_exporter": "python",
   "pygments_lexer": "ipython3",
   "version": "3.9.7"
  }
 },
 "nbformat": 4,
 "nbformat_minor": 5
}
